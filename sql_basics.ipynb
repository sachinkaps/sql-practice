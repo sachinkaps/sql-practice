{
 "cells": [
  {
   "cell_type": "markdown",
   "metadata": {
    "application/vnd.databricks.v1+cell": {
     "cellMetadata": {
      "byteLimit": 2048000,
      "rowLimit": 10000
     },
     "inputWidgets": {},
     "nuid": "a665fa71-1a9e-44c3-b027-b0c8425ae6cd",
     "showTitle": false,
     "tableResultSettingsMap": {},
     "title": ""
    }
   },
   "source": [
    "### 1. Introduction\n",
    "\n",
    "This notebook covers following SQL topics:\n",
    "- Retrieve or Modify Data\n",
    "- Basic Functions and Expressions\n",
    "- Filtering and Sorting Data\n",
    "- Aggregate Functions and Grouping\n",
    "- Joins and Combining Data\n",
    "- Subqueries\n",
    "- Common Table Expressions (CTEs)\n",
    "- Set Operations"
   ]
  },
  {
   "cell_type": "markdown",
   "metadata": {
    "application/vnd.databricks.v1+cell": {
     "cellMetadata": {
      "byteLimit": 2048000,
      "rowLimit": 10000
     },
     "inputWidgets": {},
     "nuid": "d1c14df7-70a6-4a7b-bef1-521e67da1c93",
     "showTitle": false,
     "tableResultSettingsMap": {},
     "title": ""
    }
   },
   "source": [
    "### 2. Setup Instructions\n",
    "- [Create Databricks Community version account](https://docs.databricks.com/gcp/en/getting-started/community-edition)\n",
    "- Import this 'SQL Basics' notebook into your Databricks Workspace and open it\n",
    "    - Download the file from GitHub and directly import in your workspace\n",
    "    - Or you can also clone the GitHub repo and open the notebook directly from cloned files (does not work with Community version)\n",
    "- Download related [dataset from Kaggle](https://www.kaggle.com/datasets/arnabchaki/data-science-salaries-2023/data) and upload to your Databricks Catalog (_New -> Add or upload data_)\n",
    "- Begin your SQL basics journey with this interactive notebook!"
   ]
  },
  {
   "cell_type": "markdown",
   "metadata": {
    "application/vnd.databricks.v1+cell": {
     "cellMetadata": {
      "byteLimit": 2048000,
      "rowLimit": 10000
     },
     "inputWidgets": {},
     "nuid": "0f3c448b-c02d-48bf-946c-c0da773c971f",
     "showTitle": false,
     "tableResultSettingsMap": {},
     "title": ""
    }
   },
   "source": [
    "### 3. Load CSV into a table"
   ]
  },
  {
   "cell_type": "code",
   "execution_count": 0,
   "metadata": {
    "application/vnd.databricks.v1+cell": {
     "cellMetadata": {
      "byteLimit": 2048000,
      "rowLimit": 10000
     },
     "inputWidgets": {},
     "nuid": "64292de9-88f0-4cbd-8cbe-8cfbd7c6a6b1",
     "showTitle": true,
     "tableResultSettingsMap": {},
     "title": "Import required modules/functions"
    }
   },
   "outputs": [],
   "source": [
    "from pyspark.sql.types import (\n",
    "    StructType,\n",
    "    StructField,\n",
    "    StringType,\n",
    "    DoubleType,\n",
    "    IntegerType,\n",
    ")\n",
    "from pyspark.sql.functions import (\n",
    "    expr,\n",
    "    col,\n",
    ")"
   ]
  },
  {
   "cell_type": "code",
   "execution_count": 0,
   "metadata": {
    "application/vnd.databricks.v1+cell": {
     "cellMetadata": {
      "byteLimit": 2048000,
      "rowLimit": 10000
     },
     "inputWidgets": {},
     "nuid": "a251f183-58a4-474c-91f3-6e9f57273da3",
     "showTitle": true,
     "tableResultSettingsMap": {},
     "title": "Define table schema"
    }
   },
   "outputs": [],
   "source": [
    "schema = StructType([\n",
    "    StructField('work_year', IntegerType(), True),\n",
    "    StructField('experience_level', StringType(), True),\n",
    "    StructField('employment_type', StringType(), True),\n",
    "    StructField('job_title', StringType(), True),\n",
    "    StructField('salary', DoubleType(), True),\n",
    "    StructField('salary_currency', StringType(), True),\n",
    "    StructField('salary_in_usd', DoubleType(), True),\n",
    "    StructField('employee_residence', StringType(), True),\n",
    "    StructField('remote_ratio', IntegerType(), True),\n",
    "    StructField('company_location', StringType(), True),\n",
    "    StructField('company_size', StringType(), True),\n",
    "])"
   ]
  },
  {
   "cell_type": "code",
   "execution_count": 0,
   "metadata": {
    "application/vnd.databricks.v1+cell": {
     "cellMetadata": {
      "byteLimit": 2048000,
      "rowLimit": 10000
     },
     "inputWidgets": {},
     "nuid": "466208d6-dabe-4f20-b23f-4e5a1628028b",
     "showTitle": true,
     "tableResultSettingsMap": {},
     "title": "Load CSV file into PySpark DataFrame"
    }
   },
   "outputs": [],
   "source": [
    "salary_df = spark.read.csv('dbfs:/FileStore/tables/salaries.csv', header=True, schema=schema)\n",
    "salary_df = salary_df.withColumn('employee_uuid', expr(\"uuid()\"))\n",
    "salary_df = salary_df.withColumn('salary_in_thousands', col('salary')/1000)\n",
    "display(salary_df)"
   ]
  },
  {
   "cell_type": "code",
   "execution_count": 0,
   "metadata": {
    "application/vnd.databricks.v1+cell": {
     "cellMetadata": {
      "byteLimit": 2048000,
      "rowLimit": 10000
     },
     "inputWidgets": {},
     "nuid": "8e184ac6-159c-4324-afd0-7bbee445c643",
     "showTitle": true,
     "tableResultSettingsMap": {},
     "title": "Create Temp View for Executing Queries"
    }
   },
   "outputs": [],
   "source": [
    "salary_df.createOrReplaceTempView('salary_info_temp')"
   ]
  },
  {
   "cell_type": "code",
   "execution_count": 0,
   "metadata": {
    "application/vnd.databricks.v1+cell": {
     "cellMetadata": {
      "byteLimit": 2048000,
      "rowLimit": 10000
     },
     "inputWidgets": {},
     "nuid": "5bf33b97-998e-4324-b4d6-8b6902cf5fa4",
     "showTitle": false,
     "tableResultSettingsMap": {},
     "title": ""
    }
   },
   "outputs": [],
   "source": [
    "# Clear hive file if it already exists, since CREATE TABLE breaks if this already exists\n",
    "dbutils.fs.rm('dbfs:/user/hive/warehouse/salary_info', recurse=True)"
   ]
  },
  {
   "cell_type": "code",
   "execution_count": 0,
   "metadata": {
    "application/vnd.databricks.v1+cell": {
     "cellMetadata": {
      "byteLimit": 2048000,
      "implicitDf": true,
      "rowLimit": 10000
     },
     "inputWidgets": {},
     "nuid": "cf8364f0-6f87-4b55-b366-b61641987ff0",
     "showTitle": true,
     "tableResultSettingsMap": {},
     "title": "Create a table from temp view"
    }
   },
   "outputs": [],
   "source": [
    "%sql\n",
    "DROP TABLE IF EXISTS salary_info;\n",
    "\n",
    "CREATE TABLE salary_info AS\n",
    "SELECT * FROM salary_info_temp;"
   ]
  },
  {
   "cell_type": "code",
   "execution_count": 0,
   "metadata": {
    "application/vnd.databricks.v1+cell": {
     "cellMetadata": {
      "byteLimit": 2048000,
      "rowLimit": 10000
     },
     "inputWidgets": {},
     "nuid": "f79d56d5-82b9-4b93-8112-c1bc8eadfb0d",
     "showTitle": false,
     "tableResultSettingsMap": {},
     "title": ""
    }
   },
   "outputs": [],
   "source": [
    "# Clear hive file if it already exists, since CREATE TABLE breaks if this already exists\n",
    "dbutils.fs.rm('dbfs:/user/hive/warehouse/experience_level', recurse=True)"
   ]
  },
  {
   "cell_type": "code",
   "execution_count": 0,
   "metadata": {
    "application/vnd.databricks.v1+cell": {
     "cellMetadata": {
      "byteLimit": 2048000,
      "implicitDf": true,
      "rowLimit": 10000
     },
     "inputWidgets": {},
     "nuid": "11e9bcd2-6d77-41dd-9935-ab7d93928342",
     "showTitle": true,
     "tableResultSettingsMap": {},
     "title": "Create  experience level mapping table"
    }
   },
   "outputs": [],
   "source": [
    "%sql\n",
    "-- This is required for demonstrating JOINs later\n",
    "DROP TABLE IF EXISTS experience_level;\n",
    "\n",
    "CREATE TABLE experience_level (\n",
    "  abbreviation STRING,\n",
    "  meaning STRING\n",
    ")\n",
    "USING DELTA;\n",
    "\n",
    "INSERT INTO experience_level (abbreviation, meaning)\n",
    "VALUES\n",
    "  ('SE', 'Senior Engineer'),\n",
    "  ('EX', 'Executive / Expert'),\n",
    "  ('EN', 'Entry-level Engineer'),\n",
    "  ('IN', 'Intern');"
   ]
  },
  {
   "cell_type": "markdown",
   "metadata": {
    "application/vnd.databricks.v1+cell": {
     "cellMetadata": {
      "byteLimit": 2048000,
      "rowLimit": 10000
     },
     "inputWidgets": {},
     "nuid": "bd4788b5-4601-417a-86ff-b9c7eb443b4d",
     "showTitle": false,
     "tableResultSettingsMap": {},
     "title": ""
    }
   },
   "source": [
    "| Abbreviation | Meaning              |\n",
    "| ------------ | -------------------- |\n",
    "| **SE**       | Senior Engineer      |\n",
    "| **MI**       | Mid-level Engineer   |\n",
    "| **EX**       | Executive / Expert   |\n",
    "| **EN**       | Entry-level Engineer |\n"
   ]
  },
  {
   "cell_type": "markdown",
   "metadata": {
    "application/vnd.databricks.v1+cell": {
     "cellMetadata": {
      "byteLimit": 2048000,
      "rowLimit": 10000
     },
     "inputWidgets": {},
     "nuid": "b7d5c4fe-4f55-419b-9a42-cdeb5b3aca5b",
     "showTitle": false,
     "tableResultSettingsMap": {},
     "title": ""
    }
   },
   "source": [
    "### 4. `Retrieve or Modify Data`\n",
    "These statements modify or retrieve data from existing tables:\n",
    "- SELECT — Query and retrieve data from tables\n",
    "- INSERT — Add new rows of data into tables\n",
    "- UPDATE — Modify existing data in tables\n",
    "- DELETE — Remove rows of data from tables\n"
   ]
  },
  {
   "cell_type": "code",
   "execution_count": 0,
   "metadata": {
    "application/vnd.databricks.v1+cell": {
     "cellMetadata": {
      "byteLimit": 2048000,
      "implicitDf": true,
      "rowLimit": 10000
     },
     "inputWidgets": {},
     "nuid": "25e27eab-316c-446e-9e19-eaa4a7b186b6",
     "showTitle": true,
     "tableResultSettingsMap": {
      "0": {
       "dataGridStateBlob": null,
       "filterBlob": "{\"version\":1,\"filterGroups\":[{\"enabled\":true,\"filterGroupId\":\"fg_1cf08be8\",\"op\":\"OR\",\"filters\":[{\"filterId\":\"f_a42ac719\",\"enabled\":true,\"columnId\":\"job_title\",\"dataType\":\"string\",\"filterType\":\"eq\",\"filterValue\":\"Systems Engineer\"}],\"local\":false,\"updatedAt\":1749128930488}],\"syncTimestamp\":1749128930489}",
       "queryPlanFiltersBlob": null,
       "tableResultIndex": 0
      }
     },
     "title": "SELECT"
    }
   },
   "outputs": [],
   "source": [
    "%sql\n",
    "-- Fetch all records with all columns\n",
    "SELECT * FROM salary_info;\n",
    "\n",
    "-- SELECT all records with specific columns\n",
    "SELECT\n",
    "    employee_uuid\n",
    "    ,job_title\n",
    "    ,experience_level\n",
    "    ,salary\n",
    "FROM salary_info;\n",
    "\n",
    "-- Only fetch limited rows/records\n",
    "SELECT * FROM salary_info LIMIT 10;\n"
   ]
  },
  {
   "cell_type": "code",
   "execution_count": 0,
   "metadata": {
    "application/vnd.databricks.v1+cell": {
     "cellMetadata": {
      "byteLimit": 2048000,
      "implicitDf": true,
      "rowLimit": 10000
     },
     "inputWidgets": {},
     "nuid": "6b1c98c2-d9b2-4213-acae-8a79cc461e37",
     "showTitle": true,
     "tableResultSettingsMap": {},
     "title": "INSERT"
    }
   },
   "outputs": [],
   "source": [
    "%sql\n",
    "-- Insert a new record/row with specific values\n",
    "INSERT INTO salary_info (\n",
    "    work_year,\n",
    "    experience_level,\n",
    "    employment_type,\n",
    "    job_title,\n",
    "    salary,\n",
    "    salary_currency,\n",
    "    salary_in_usd,\n",
    "    employee_residence,\n",
    "    remote_ratio,\n",
    "    company_location,\n",
    "    company_size\n",
    ")\n",
    "VALUES (\n",
    "    2024, \n",
    "    'SE', \n",
    "    'FT', \n",
    "    'Data Engineer', \n",
    "    120000,\n",
    "    'USD',\n",
    "    120000, \n",
    "    'USA', \n",
    "    100,\n",
    "    'USA', \n",
    "    'M'\n",
    ");"
   ]
  },
  {
   "cell_type": "code",
   "execution_count": 0,
   "metadata": {
    "application/vnd.databricks.v1+cell": {
     "cellMetadata": {
      "byteLimit": 2048000,
      "implicitDf": true,
      "rowLimit": 10000
     },
     "inputWidgets": {},
     "nuid": "d0d11e03-acd0-49f3-9722-d57d037fd33d",
     "showTitle": true,
     "tableResultSettingsMap": {},
     "title": "UPDATE"
    }
   },
   "outputs": [],
   "source": [
    "%sql\n",
    "-- Update salary for all entry-level System Engineers in US to 65000 (average salary)\n",
    "UPDATE salary_info\n",
    "SET\n",
    "  salary = 65000,\n",
    "  salary_in_usd = 65000\n",
    "WHERE job_title = 'Systems Engineer'\n",
    "  AND experience_level = 'EN'\n",
    "  AND salary_currency = 'USD'\n",
    "  AND employee_residence = 'US'\n",
    "  AND company_location = 'US'\n",
    "  AND work_year = 2024;"
   ]
  },
  {
   "cell_type": "code",
   "execution_count": 0,
   "metadata": {
    "application/vnd.databricks.v1+cell": {
     "cellMetadata": {
      "byteLimit": 2048000,
      "implicitDf": true,
      "rowLimit": 10000
     },
     "inputWidgets": {},
     "nuid": "cdc6e54c-c4c0-4dda-b73d-4c2912f17edf",
     "showTitle": true,
     "tableResultSettingsMap": {},
     "title": "DELETE"
    }
   },
   "outputs": [],
   "source": [
    "%sql\n",
    "-- Delete records/rows with a specific criteria\n",
    "DELETE FROM salary_info\n",
    "WHERE job_title = 'Systems Engineer'\n",
    "  AND experience_level = 'EN'\n",
    "  AND salary_currency = 'GBP'\n",
    "  AND work_year = 2024;"
   ]
  },
  {
   "cell_type": "markdown",
   "metadata": {
    "application/vnd.databricks.v1+cell": {
     "cellMetadata": {
      "byteLimit": 2048000,
      "rowLimit": 10000
     },
     "inputWidgets": {},
     "nuid": "3d4bb432-df83-486c-bbb2-01f614f5d192",
     "showTitle": false,
     "tableResultSettingsMap": {},
     "title": ""
    }
   },
   "source": [
    "### 5. `Basic Functions and Expressions`\n",
    "- String functions (e.g., CONCAT, UPPER, LOWER, SUBSTRING)\n",
    "- Date/time functions (e.g., CURRENT_DATE, DATEADD, DATEDIFF, EXTRACT)\n",
    "- Numeric functions (e.g., ROUND, CEIL, FLOOR)"
   ]
  },
  {
   "cell_type": "code",
   "execution_count": 0,
   "metadata": {
    "application/vnd.databricks.v1+cell": {
     "cellMetadata": {
      "byteLimit": 2048000,
      "implicitDf": true,
      "rowLimit": 10000
     },
     "inputWidgets": {},
     "nuid": "99c08755-eb81-4e1a-ba40-4ff7253d1983",
     "showTitle": true,
     "tableResultSettingsMap": {},
     "title": "String functions"
    }
   },
   "outputs": [],
   "source": [
    "%sql\n",
    "SELECT\n",
    "  UPPER(job_title) AS title_in_upper_case\n",
    "  ,LOWER(job_title) AS title_in_lower_case\n",
    "  ,SUBSTRING(job_title, 1, 5) substring_from_title\n",
    "  ,CONCAT(salary_currency, ', ',company_location) currency_and_location\n",
    "FROM salary_info\n",
    "LIMIT 10;"
   ]
  },
  {
   "cell_type": "code",
   "execution_count": 0,
   "metadata": {
    "application/vnd.databricks.v1+cell": {
     "cellMetadata": {
      "byteLimit": 2048000,
      "implicitDf": true,
      "rowLimit": 10000
     },
     "inputWidgets": {},
     "nuid": "6ba57d2f-fc60-4b36-b786-163096017dcb",
     "showTitle": true,
     "tableResultSettingsMap": {},
     "title": "Date/time functions"
    }
   },
   "outputs": [],
   "source": [
    "%sql\n",
    "WITH records_with_date AS (\n",
    "  SELECT\n",
    "    *\n",
    "    ,CURRENT_DATE() AS record_date\n",
    "    ,DATE_ADD(CURRENT_DATE(), 365) valid_until\n",
    "  FROM salary_info\n",
    ")\n",
    "SELECT\n",
    "  *,\n",
    "  EXTRACT(YEAR FROM record_date) AS record_year\n",
    "  ,DATEDIFF(valid_until, CURRENT_DATE()) days_remaining_until_expiry\n",
    "FROM records_with_date"
   ]
  },
  {
   "cell_type": "code",
   "execution_count": 0,
   "metadata": {
    "application/vnd.databricks.v1+cell": {
     "cellMetadata": {
      "byteLimit": 2048000,
      "implicitDf": true,
      "rowLimit": 10000
     },
     "inputWidgets": {},
     "nuid": "63315857-1a9f-43d2-b132-262344cbf85e",
     "showTitle": true,
     "tableResultSettingsMap": {},
     "title": "Numeric functions"
    }
   },
   "outputs": [],
   "source": [
    "%sql\n",
    "SELECT\n",
    "  salary_in_thousands\n",
    "  ,ROUND(salary_in_thousands, 0) AS salary_round\n",
    "  -- Rounds a number to the nearest integer or to a specified number of decimal places\n",
    "  ,CEIL(salary_in_thousands) AS salary_ceil\n",
    "  -- Returns the smallest integer greater than or equal to the given number (rounds up)\n",
    "  ,FLOOR(salary_in_thousands) AS salary_floor\n",
    "  -- Returns the largest integer less than or equal to the given number (rounds down)\n",
    "FROM salary_info"
   ]
  },
  {
   "cell_type": "markdown",
   "metadata": {
    "application/vnd.databricks.v1+cell": {
     "cellMetadata": {
      "byteLimit": 2048000,
      "rowLimit": 10000
     },
     "inputWidgets": {},
     "nuid": "8d2a55fc-5a2a-4a4e-a90c-cd16c54c4e3c",
     "showTitle": false,
     "tableResultSettingsMap": {},
     "title": ""
    }
   },
   "source": [
    "### 6. `Filtering and Sorting Data`\n",
    "- Using WHERE:\n",
    "  - Use logical operators (AND, OR, NOT) to combine conditions\n",
    "  - Use IN, BETWEEN, and LIKE for complex filtering\n",
    "  - Use IS NULL or IS NOT NULL to handle NULL values\n"
   ]
  },
  {
   "cell_type": "code",
   "execution_count": 0,
   "metadata": {
    "application/vnd.databricks.v1+cell": {
     "cellMetadata": {
      "byteLimit": 2048000,
      "implicitDf": true,
      "rowLimit": 10000
     },
     "inputWidgets": {},
     "nuid": "248d59d7-f8b4-44df-8160-dc640cb02378",
     "showTitle": true,
     "tableResultSettingsMap": {},
     "title": "WHERE with AND/OR/NOT"
    }
   },
   "outputs": [],
   "source": [
    "%sql\n",
    "SELECT *\n",
    "FROM salary_info\n",
    "WHERE (job_title = 'Data Engineer' OR job_title = 'Machine Learning Engineer')\n",
    "    AND salary > 1000000\n",
    "    AND NOT employment_type = 'CT';"
   ]
  },
  {
   "cell_type": "code",
   "execution_count": 0,
   "metadata": {
    "application/vnd.databricks.v1+cell": {
     "cellMetadata": {
      "byteLimit": 2048000,
      "implicitDf": true,
      "rowLimit": 10000
     },
     "inputWidgets": {},
     "nuid": "8fbf6622-4a8c-4d8f-89e1-c3d57dca6ee2",
     "showTitle": true,
     "tableResultSettingsMap": {},
     "title": "WHERE + IN/LIKE/BETWEEN"
    }
   },
   "outputs": [],
   "source": [
    "%sql\n",
    "SELECT *\n",
    "FROM salary_info\n",
    "WHERE job_title LIKE '%Manager%'\n",
    "    AND (salary BETWEEN 1000000 AND 10000000)\n",
    "    AND employment_type IN ('FT', 'CT');"
   ]
  },
  {
   "cell_type": "code",
   "execution_count": 0,
   "metadata": {
    "application/vnd.databricks.v1+cell": {
     "cellMetadata": {
      "byteLimit": 2048000,
      "implicitDf": true,
      "rowLimit": 10000
     },
     "inputWidgets": {},
     "nuid": "2da13deb-0559-4047-ba4f-cc8fd1d32f14",
     "showTitle": true,
     "tableResultSettingsMap": {},
     "title": "WHERE + NULL/NOT NULL"
    }
   },
   "outputs": [],
   "source": [
    "%sql\n",
    "SELECT *\n",
    "FROM salary_info\n",
    "WHERE salary_currency IS NULL\n",
    "    AND salary IS NOT NULL;"
   ]
  },
  {
   "cell_type": "markdown",
   "metadata": {
    "application/vnd.databricks.v1+cell": {
     "cellMetadata": {
      "byteLimit": 2048000,
      "rowLimit": 10000
     },
     "inputWidgets": {},
     "nuid": "c29ea07e-1b36-40ae-b233-89796f71fb95",
     "showTitle": false,
     "tableResultSettingsMap": {},
     "title": ""
    }
   },
   "source": [
    "### 7. `Aggregate Functions and Grouping`\n",
    "\n",
    "- COUNT(), SUM(), AVG(), MIN(), MAX()\n",
    "- GROUP BY\n",
    "- HAVING clause: Filtering aggregated data\n",
    "- ROLLUP and CUBE (advanced grouping)"
   ]
  },
  {
   "cell_type": "code",
   "execution_count": 0,
   "metadata": {
    "application/vnd.databricks.v1+cell": {
     "cellMetadata": {
      "byteLimit": 2048000,
      "implicitDf": true,
      "rowLimit": 10000
     },
     "inputWidgets": {},
     "nuid": "a2ac6ab6-a465-4d47-8043-2a363393cd2a",
     "showTitle": true,
     "tableResultSettingsMap": {},
     "title": "Aggregate functions"
    }
   },
   "outputs": [],
   "source": [
    "%sql\n",
    "SELECT \n",
    "  COUNT(*) AS total_employees -- Counts number of rows or non-null values\n",
    "  ,SUM(salary_in_usd) AS total_amount -- Calculates sum of numeric values\n",
    "  ,AVG(salary_in_usd) AS avg_salary -- Calculates average of numeric values\n",
    "  ,MIN(salary_in_usd) AS min_salary -- Finds the smallest value\n",
    "  ,MAX(salary_in_usd) AS max_salary -- Finds the largest value\n",
    "FROM salary_info;"
   ]
  },
  {
   "cell_type": "code",
   "execution_count": 0,
   "metadata": {
    "application/vnd.databricks.v1+cell": {
     "cellMetadata": {
      "byteLimit": 2048000,
      "implicitDf": true,
      "rowLimit": 10000
     },
     "inputWidgets": {},
     "nuid": "c027194c-78f7-4439-a8a6-443dfe293d65",
     "showTitle": true,
     "tableResultSettingsMap": {},
     "title": "Aggregate with GROUP BY"
    }
   },
   "outputs": [],
   "source": [
    "%sql\n",
    "SELECT \n",
    "  job_title,\n",
    "  COUNT(*) AS emp_count,\n",
    "  AVG(salary_in_usd) AS avg_salary\n",
    "FROM salary_info\n",
    "WHERE salary_in_usd > 100000 -- Only aggregate on records where salary > 100000\n",
    "GROUP BY job_title"
   ]
  },
  {
   "cell_type": "code",
   "execution_count": 0,
   "metadata": {
    "application/vnd.databricks.v1+cell": {
     "cellMetadata": {
      "byteLimit": 2048000,
      "implicitDf": true,
      "rowLimit": 10000
     },
     "inputWidgets": {},
     "nuid": "8d8c42e4-a60a-4624-bbb5-64daf11bf8d1",
     "showTitle": true,
     "tableResultSettingsMap": {},
     "title": "Aggregate with HAVING clause"
    }
   },
   "outputs": [],
   "source": [
    "%sql\n",
    "SELECT \n",
    "  job_title,\n",
    "  AVG(salary_in_usd) AS avg_salary\n",
    "FROM salary_info\n",
    "GROUP BY job_title\n",
    "HAVING AVG(salary_in_usd) > 100000; -- Filters the aggregated results (unlike WHERE, which filters rows before aggregation)"
   ]
  },
  {
   "cell_type": "code",
   "execution_count": 0,
   "metadata": {
    "application/vnd.databricks.v1+cell": {
     "cellMetadata": {
      "byteLimit": 2048000,
      "implicitDf": true,
      "rowLimit": 10000
     },
     "inputWidgets": {},
     "nuid": "0b43ba04-1074-4a1d-8cda-877e0c1412f8",
     "showTitle": true,
     "tableResultSettingsMap": {},
     "title": "Aggregate with ROLLUP"
    }
   },
   "outputs": [],
   "source": [
    "%sql\n",
    "-- Adds subtotals and grand totals in hierarchical order:\n",
    "  -- subtotal per experience_level\n",
    "  -- Grand total for all rows\n",
    "SELECT \n",
    "  job_title,\n",
    "  experience_level,\n",
    "  SUM(salary_in_usd) AS total_salary\n",
    "FROM salary_info\n",
    "GROUP BY ROLLUP(job_title, experience_level)\n",
    "ORDER BY job_title NULLS LAST\n",
    "  ,experience_level NULLS LAST"
   ]
  },
  {
   "cell_type": "code",
   "execution_count": 0,
   "metadata": {
    "application/vnd.databricks.v1+cell": {
     "cellMetadata": {
      "byteLimit": 2048000,
      "implicitDf": true,
      "rowLimit": 10000
     },
     "inputWidgets": {},
     "nuid": "7cf2fb69-fe27-4590-8e44-a3dec85fb476",
     "showTitle": false,
     "tableResultSettingsMap": {},
     "title": ""
    }
   },
   "outputs": [],
   "source": [
    "%sql\n",
    "-- Adds all combinations of grouped columns (like pivot subtotals):\n",
    "  -- Subtotals by each individual column (i.e.both job_title and experience_level individually)\n",
    "  -- Subtotals by combinations (i.e. combinations of job_title and experience_level)\n",
    "  -- Grand total for all rows\n",
    "SELECT \n",
    "  job_title,\n",
    "  experience_level,\n",
    "  SUM(salary_in_usd) AS total_salary\n",
    "FROM salary_info\n",
    "GROUP BY CUBE(job_title, experience_level)\n",
    "ORDER BY job_title NULLS LAST\n",
    "  ,experience_level NULLS LAST"
   ]
  },
  {
   "cell_type": "markdown",
   "metadata": {
    "application/vnd.databricks.v1+cell": {
     "cellMetadata": {
      "byteLimit": 2048000,
      "rowLimit": 10000
     },
     "inputWidgets": {},
     "nuid": "69b0e7c0-1820-4f85-85a3-f91b8264cb13",
     "showTitle": false,
     "tableResultSettingsMap": {},
     "title": ""
    }
   },
   "source": [
    "### 8. `Joins and Combining Data`\n",
    "- INNER JOIN\n",
    "- LEFT JOIN / LEFT OUTER JOIN\n",
    "- RIGHT JOIN / RIGHT OUTER JOIN\n",
    "- FULL OUTER JOIN\n",
    "- CROSS JOIN\n",
    "- SELF JOIN"
   ]
  },
  {
   "cell_type": "code",
   "execution_count": 0,
   "metadata": {
    "application/vnd.databricks.v1+cell": {
     "cellMetadata": {
      "byteLimit": 2048000,
      "implicitDf": true,
      "rowLimit": 10000
     },
     "inputWidgets": {},
     "nuid": "5e51e3d3-a657-4870-84b3-5d681f7fec37",
     "showTitle": true,
     "tableResultSettingsMap": {},
     "title": "INNER JOIN"
    }
   },
   "outputs": [],
   "source": [
    "%sql\n",
    "-- Key Points:\n",
    "  -- Returns only the rows that have matching values in both tables.\n",
    "  -- Use when values/columns you're trying to fetch from right table are always required and in it's abscense the record is not useful for further analysis.\n",
    "\n",
    "WITH joined_cte AS (\n",
    "  SELECT\n",
    "    s.* -- select all columns from salary table\n",
    "    ,e.meaning as experience_level_full_form\n",
    "  FROM salary_info s\n",
    "  INNER JOIN experience_level e\n",
    "    ON s.experience_level = e.abbreviation\n",
    ")\n",
    "SELECT\n",
    "  DISTINCT experience_level\n",
    "  ,experience_level_full_form\n",
    "FROM joined_cte"
   ]
  },
  {
   "cell_type": "code",
   "execution_count": 0,
   "metadata": {
    "application/vnd.databricks.v1+cell": {
     "cellMetadata": {
      "byteLimit": 2048000,
      "implicitDf": true,
      "rowLimit": 10000
     },
     "inputWidgets": {},
     "nuid": "9c338fa2-5b16-4bb5-bae1-8fa2bb2d295f",
     "showTitle": true,
     "tableResultSettingsMap": {},
     "title": "LEFT JOIN"
    }
   },
   "outputs": [],
   "source": [
    "%sql\n",
    "-- Key Points:\n",
    "  -- Returns all rows from the left table and matching rows from the right table.\n",
    "  -- If there’s no match, the result has NULLs for the right table’s columns.\n",
    "  -- Use when values/columns you're trying to fetch from right table are optional and in it's abscense the record is still useful in some way for further analysis.\n",
    "\n",
    "WITH joined_cte AS (\n",
    "  SELECT\n",
    "    s.* -- select all columns from salary table\n",
    "    ,e.meaning as experience_level_full_form\n",
    "  FROM salary_info s\n",
    "  LEFT JOIN experience_level e\n",
    "    ON s.experience_level = e.abbreviation\n",
    ")\n",
    "SELECT\n",
    "  DISTINCT experience_level\n",
    "  ,experience_level_full_form\n",
    "FROM joined_cte"
   ]
  },
  {
   "cell_type": "code",
   "execution_count": 0,
   "metadata": {
    "application/vnd.databricks.v1+cell": {
     "cellMetadata": {
      "byteLimit": 2048000,
      "implicitDf": true,
      "rowLimit": 10000
     },
     "inputWidgets": {},
     "nuid": "01806011-6f95-49b8-9cf1-3358d8692249",
     "showTitle": true,
     "tableResultSettingsMap": {},
     "title": "RIGHT JOIN"
    }
   },
   "outputs": [],
   "source": [
    "%sql\n",
    "-- Key Points:\n",
    "  -- Returns all rows from the right table and matching rows from the left table.\n",
    "  -- If there’s no match, the result has NULLs for the left table’s columns.\n",
    "  -- In real world you almost always end up using LEFT JOIN, by switching the table positions.\n",
    "\n",
    "WITH joined_cte AS (\n",
    "  SELECT\n",
    "    s.* -- select all columns from salary table\n",
    "    ,e.meaning as experience_level_full_form\n",
    "  FROM salary_info s\n",
    "  RIGHT JOIN experience_level e\n",
    "    ON s.experience_level = e.abbreviation\n",
    ")\n",
    "SELECT\n",
    "  DISTINCT experience_level\n",
    "  ,experience_level_full_form\n",
    "FROM joined_cte"
   ]
  },
  {
   "cell_type": "code",
   "execution_count": 0,
   "metadata": {
    "application/vnd.databricks.v1+cell": {
     "cellMetadata": {
      "byteLimit": 2048000,
      "implicitDf": true,
      "rowLimit": 10000
     },
     "inputWidgets": {},
     "nuid": "2e64d0c0-4c2e-45a5-9b2f-f9c5ecdab79d",
     "showTitle": true,
     "tableResultSettingsMap": {},
     "title": "FULL OUTER JOIN"
    }
   },
   "outputs": [],
   "source": [
    "%sql\n",
    "-- Key Points:\n",
    "  -- Returns all rows from both tables, matching where possible.\n",
    "  -- If there’s no match, returns NULLs for the missing side.\n",
    "\n",
    "WITH joined_cte AS (\n",
    "  SELECT\n",
    "    s.* -- select all columns from salary table\n",
    "    ,e.meaning as experience_level_full_form\n",
    "  FROM salary_info s\n",
    "  FULL OUTER JOIN experience_level e\n",
    "    ON s.experience_level = e.abbreviation\n",
    ")\n",
    "SELECT\n",
    "  DISTINCT experience_level\n",
    "  ,experience_level_full_form\n",
    "FROM joined_cte"
   ]
  },
  {
   "cell_type": "code",
   "execution_count": 0,
   "metadata": {
    "application/vnd.databricks.v1+cell": {
     "cellMetadata": {
      "byteLimit": 2048000,
      "rowLimit": 10000
     },
     "inputWidgets": {},
     "nuid": "249eaa59-fa1d-4069-adaf-4c76ba2cbc52",
     "showTitle": false,
     "tableResultSettingsMap": {},
     "title": ""
    }
   },
   "outputs": [],
   "source": [
    "# Clear hive file if it already exists, since CREATE TABLE breaks if this already exists\n",
    "dbutils.fs.rm('dbfs:/user/hive/warehouse/tshirt_colors', recurse=True)\n",
    "dbutils.fs.rm('dbfs:/user/hive/warehouse/tshirt_sizes', recurse=True)"
   ]
  },
  {
   "cell_type": "code",
   "execution_count": 0,
   "metadata": {
    "application/vnd.databricks.v1+cell": {
     "cellMetadata": {
      "byteLimit": 2048000,
      "implicitDf": true,
      "rowLimit": 10000
     },
     "inputWidgets": {},
     "nuid": "0e89689b-9002-4e98-b949-9639fffacc59",
     "showTitle": true,
     "tableResultSettingsMap": {},
     "title": "CROSS JOIN"
    }
   },
   "outputs": [],
   "source": [
    "%sql\n",
    "-- Key Points:\n",
    "  -- Produces a Cartesian product — every row from the first table joined with every row from the second table. Useful for generating all possible combinations of rows between two tables.\n",
    "  -- No ON clause needed since it joins every row from both tables.\n",
    "  -- Typically used with caution (explodes row count).\n",
    "\n",
    "DROP TABLE IF EXISTS tshirt_colors;\n",
    "\n",
    "CREATE TABLE tshirt_colors (\n",
    "  color STRING\n",
    ");\n",
    "\n",
    "INSERT INTO tshirt_colors (color)\n",
    "VALUES\n",
    "  ('Red'),\n",
    "  ('Blue');\n",
    "\n",
    "\n",
    "DROP TABLE IF EXISTS tshirt_sizes;\n",
    "\n",
    "CREATE TABLE IF NOT EXISTS tshirt_sizes (\n",
    "  size STRING\n",
    ");\n",
    "\n",
    "INSERT INTO tshirt_sizes (size)\n",
    "VALUES\n",
    "  ('S'),\n",
    "  ('M'),\n",
    "  ('L');\n",
    "\n",
    "\n",
    "SELECT c.color, s.size\n",
    "FROM tshirt_colors c\n",
    "CROSS JOIN tshirt_sizes s;"
   ]
  },
  {
   "cell_type": "code",
   "execution_count": 0,
   "metadata": {
    "application/vnd.databricks.v1+cell": {
     "cellMetadata": {
      "byteLimit": 2048000,
      "implicitDf": true,
      "rowLimit": 10000
     },
     "inputWidgets": {},
     "nuid": "12983636-1c3c-4344-976b-bf0febeef32e",
     "showTitle": true,
     "tableResultSettingsMap": {},
     "title": "SELF JOIN"
    }
   },
   "outputs": [],
   "source": [
    "%sql\n",
    "-- Key Points:\n",
    "  -- A table is joined with itself.\n",
    "  -- Useful for hierarchical data (e.g., employees and managers).\n",
    "\n",
    "SELECT e1.name AS employee_name, e2.name AS manager_name\n",
    "FROM employees e1\n",
    "JOIN employees e2\n",
    "  ON e1.manager_id = e2.employee_id;"
   ]
  },
  {
   "cell_type": "markdown",
   "metadata": {
    "application/vnd.databricks.v1+cell": {
     "cellMetadata": {
      "byteLimit": 2048000,
      "rowLimit": 10000
     },
     "inputWidgets": {},
     "nuid": "1f3c0567-0df0-464d-8530-10c66b8a1b24",
     "showTitle": false,
     "tableResultSettingsMap": {},
     "title": ""
    }
   },
   "source": [
    "### 9. `Subqueries`\n",
    "- A subquery is a nested query written inside another SQL statement, typically in the SELECT, FROM, or WHERE clause\n",
    "- Used to compute intermediate results or filter data dynamically within a single query.\n",
    "- The subquery is executed first, and its result is passed to the outer query.\n",
    "- Correlation:\n",
    "    - A correlated subquery references columns from the outer query.\n",
    "    - A non-correlated subquery is independent of the outer query.\n",
    "- Performance: Can be slower on large datasets compared to joins.\n"
   ]
  },
  {
   "cell_type": "code",
   "execution_count": 0,
   "metadata": {
    "application/vnd.databricks.v1+cell": {
     "cellMetadata": {
      "byteLimit": 2048000,
      "implicitDf": true,
      "rowLimit": 10000
     },
     "inputWidgets": {},
     "nuid": "09de5c8f-6f47-4ad1-9223-d737354304e7",
     "showTitle": true,
     "tableResultSettingsMap": {},
     "title": "Subquery in the WHERE clause"
    }
   },
   "outputs": [],
   "source": [
    "%sql\n",
    "SELECT\n",
    "  employee_uuid\n",
    "  ,job_title\n",
    "  ,experience_level\n",
    "  ,salary\n",
    "FROM salary_info\n",
    "WHERE salary_in_usd > (\n",
    "  SELECT AVG(salary_in_usd)\n",
    "  FROM salary_info\n",
    ")\n",
    "ORDER BY salary_in_usd DESC;"
   ]
  },
  {
   "cell_type": "code",
   "execution_count": 0,
   "metadata": {
    "application/vnd.databricks.v1+cell": {
     "cellMetadata": {
      "byteLimit": 2048000,
      "implicitDf": true,
      "rowLimit": 10000
     },
     "inputWidgets": {},
     "nuid": "940cad1d-f237-4bda-b2d2-45a55eafdfa5",
     "showTitle": true,
     "tableResultSettingsMap": {},
     "title": "Subquery in the SELECT clause"
    }
   },
   "outputs": [],
   "source": [
    "%sql\n",
    "SELECT\n",
    "  job_title\n",
    "  ,experience_level\n",
    "  ,salary\n",
    "  ,(SELECT ROUND(AVG(salary_in_usd),2) FROM salary_info) AS avg_salary_usd\n",
    "  ,salary > (SELECT ROUND(AVG(salary_in_usd),2) FROM salary_info) AS above_avg_salary\n",
    "FROM salary_info;"
   ]
  },
  {
   "cell_type": "code",
   "execution_count": 0,
   "metadata": {
    "application/vnd.databricks.v1+cell": {
     "cellMetadata": {
      "byteLimit": 2048000,
      "implicitDf": true,
      "rowLimit": 10000
     },
     "inputWidgets": {},
     "nuid": "2f5cd8df-a6b0-4436-84f0-82446a1a2a79",
     "showTitle": true,
     "tableResultSettingsMap": {},
     "title": "Subquery in the FROM clause"
    }
   },
   "outputs": [],
   "source": [
    "%sql\n",
    "SELECT\n",
    "  job_title\n",
    "  ,salary_currency\n",
    "  ,average_salary\n",
    "FROM (\n",
    "  SELECT\n",
    "    job_title\n",
    "    ,salary_currency\n",
    "    ,AVG(salary) AS average_salary\n",
    "  FROM salary_info\n",
    "  GROUP BY job_title, salary_currency\n",
    ") AS sal_summary\n",
    "WHERE sal_summary.salary_currency IN ('INR', 'USD');"
   ]
  },
  {
   "cell_type": "markdown",
   "metadata": {
    "application/vnd.databricks.v1+cell": {
     "cellMetadata": {
      "byteLimit": 2048000,
      "rowLimit": 10000
     },
     "inputWidgets": {},
     "nuid": "a0f2b1e1-5c11-4469-8daa-99f5d511ae07",
     "showTitle": false,
     "tableResultSettingsMap": {},
     "title": ""
    }
   },
   "source": [
    "### 10. `Common Table Expressions (CTEs)`\n",
    "Perform multiple levels of aggregation in one query.\n",
    "Returns subtotals by department, job, and a grand total."
   ]
  },
  {
   "cell_type": "code",
   "execution_count": 0,
   "metadata": {
    "application/vnd.databricks.v1+cell": {
     "cellMetadata": {
      "byteLimit": 2048000,
      "implicitDf": true,
      "rowLimit": 10000
     },
     "inputWidgets": {},
     "nuid": "b15e0081-840b-439b-92cb-f7685b58fb10",
     "showTitle": false,
     "tableResultSettingsMap": {},
     "title": ""
    }
   },
   "outputs": [],
   "source": [
    "%sql\n",
    "-- Sample table: employees (columns: department, job, salary)\n",
    "\n",
    "WITH job_title_and_exp_wise_total AS (\n",
    "    SELECT\n",
    "        job_title,\n",
    "        experience_level,\n",
    "        SUM(salary) AS total_salary\n",
    "    FROM salary_info\n",
    "    GROUP BY job_title, experience_level\n",
    "\n",
    "), job_title_wise_total AS (\n",
    "    SELECT\n",
    "        job_title,\n",
    "        'TOTAL' AS experience_level,\n",
    "        SUM(salary) AS total_salary\n",
    "    FROM salary_info\n",
    "    GROUP BY job_title\n",
    "\n",
    "), grand_total AS (\n",
    "    SELECT\n",
    "        'TOTAL' AS job_title,\n",
    "        'TOTAL' AS experience_level,\n",
    "        SUM(salary) AS total_salary\n",
    "    FROM salary_info\n",
    ")\n",
    "\n",
    "SELECT * FROM job_title_and_exp_wise_total\n",
    "UNION ALL\n",
    "SELECT * FROM job_title_wise_total\n",
    "UNION ALL\n",
    "SELECT * FROM grand_total\n",
    "ORDER BY job_title, experience_level;\n"
   ]
  },
  {
   "cell_type": "markdown",
   "metadata": {
    "application/vnd.databricks.v1+cell": {
     "cellMetadata": {
      "byteLimit": 2048000,
      "rowLimit": 10000
     },
     "inputWidgets": {},
     "nuid": "03bdf05e-3894-4799-a00c-6e230912354a",
     "showTitle": false,
     "tableResultSettingsMap": {},
     "title": ""
    }
   },
   "source": [
    "### 11. `Set Operations`\n",
    "Set operations combine the results of two or more queries into a single result set. The key operations are:\n",
    "- UNION:\n",
    "    - Combines the results of two queries, removing duplicates by default.\n",
    "    - Use UNION ALL to include duplicates.\n",
    "- INTERSECT:\n",
    "    - Returns only rows that are common to both queries.\n",
    "- EXCEPT:\n",
    "    - Returns rows from the first query that are not present in the second query.\n",
    "    - Some databases use MINUS instead of EXCEPT (Databricks uses EXCEPT).\n",
    "\n",
    "Key Points:\n",
    "- Columns must match in number and type.\n",
    "- Order of rows in results is not guaranteed unless explicitly ordered using ORDER BY."
   ]
  },
  {
   "cell_type": "code",
   "execution_count": 0,
   "metadata": {
    "application/vnd.databricks.v1+cell": {
     "cellMetadata": {
      "byteLimit": 2048000,
      "implicitDf": true,
      "rowLimit": 10000
     },
     "inputWidgets": {},
     "nuid": "13f9c2df-840e-44c3-9558-1d7a0578ce51",
     "showTitle": true,
     "tableResultSettingsMap": {},
     "title": "UNION"
    }
   },
   "outputs": [],
   "source": [
    "%sql\n",
    "SELECT job_title, salary, 'India' AS country FROM salary_info WHERE salary_currency = 'INR'\n",
    "\n",
    "UNION\n",
    "\n",
    "SELECT job_title, salary, 'USA' AS country FROM salary_info WHERE salary_currency = 'USD';\n"
   ]
  },
  {
   "cell_type": "code",
   "execution_count": 0,
   "metadata": {
    "application/vnd.databricks.v1+cell": {
     "cellMetadata": {
      "byteLimit": 2048000,
      "implicitDf": true,
      "rowLimit": 10000
     },
     "inputWidgets": {},
     "nuid": "01d9402e-f2ef-4ec7-8119-be78b820a992",
     "showTitle": true,
     "tableResultSettingsMap": {},
     "title": "INTERSECT"
    }
   },
   "outputs": [],
   "source": [
    "%sql\n",
    "SELECT job_title FROM salary_info WHERE salary_currency = 'INR'\n",
    "\n",
    "INTERSECT\n",
    "\n",
    "SELECT job_title FROM salary_info WHERE salary_currency = 'USD';\n"
   ]
  },
  {
   "cell_type": "code",
   "execution_count": 0,
   "metadata": {
    "application/vnd.databricks.v1+cell": {
     "cellMetadata": {
      "byteLimit": 2048000,
      "implicitDf": true,
      "rowLimit": 10000
     },
     "inputWidgets": {},
     "nuid": "86175e80-1717-4b33-8c31-0177387cae7f",
     "showTitle": true,
     "tableResultSettingsMap": {},
     "title": "EXCEPT"
    }
   },
   "outputs": [],
   "source": [
    "%sql\n",
    "SELECT job_title FROM salary_info WHERE salary_currency = 'INR'\n",
    "\n",
    "EXCEPT\n",
    "\n",
    "SELECT job_title FROM salary_info WHERE salary_currency = 'USD';"
   ]
  }
 ],
 "metadata": {
  "application/vnd.databricks.v1+notebook": {
   "computePreferences": null,
   "dashboards": [],
   "environmentMetadata": {
    "base_environment": "",
    "environment_version": "1"
   },
   "inputWidgetPreferences": null,
   "language": "python",
   "notebookMetadata": {
    "mostRecentlyExecutedCommandWithImplicitDF": {
     "commandId": 787946382811618,
     "dataframes": [
      "_sqldf"
     ]
    },
    "pythonIndentUnit": 4
   },
   "notebookName": "sql_basics",
   "widgets": {}
  }
 },
 "nbformat": 4,
 "nbformat_minor": 0
}
